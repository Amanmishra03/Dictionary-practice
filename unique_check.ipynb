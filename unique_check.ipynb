{
 "cells": [
  {
   "cell_type": "markdown",
   "metadata": {},
   "source": [
    "Write a program to check if all the values in a dictionary are unique. Sample data: {\"a\": 1, \"b\": 2, \"c\": 3}"
   ]
  },
  {
   "cell_type": "code",
   "execution_count": 1,
   "metadata": {},
   "outputs": [
    {
     "name": "stdout",
     "output_type": "stream",
     "text": [
      "All values in the dictionary are unique.\n"
     ]
    }
   ],
   "source": [
    "# Sample data\n",
    "sample_data = {\"a\": 1, \"b\": 2, \"c\": 3}\n",
    "\n",
    "# Check if values are unique\n",
    "values = list(sample_data.values())\n",
    "unique_values = set(values)\n",
    "\n",
    "if len(values) == len(unique_values):\n",
    "    print(\"All values in the dictionary are unique.\")\n",
    "else:\n",
    "    print(\"Not all values in the dictionary are unique.\")\n"
   ]
  }
 ],
 "metadata": {
  "kernelspec": {
   "display_name": "base",
   "language": "python",
   "name": "python3"
  },
  "language_info": {
   "codemirror_mode": {
    "name": "ipython",
    "version": 3
   },
   "file_extension": ".py",
   "mimetype": "text/x-python",
   "name": "python",
   "nbconvert_exporter": "python",
   "pygments_lexer": "ipython3",
   "version": "3.11.4"
  }
 },
 "nbformat": 4,
 "nbformat_minor": 2
}

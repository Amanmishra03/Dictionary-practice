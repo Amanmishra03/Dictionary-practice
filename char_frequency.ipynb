{
 "cells": [
  {
   "cell_type": "markdown",
   "metadata": {},
   "source": [
    "Write a program to count the frequency of each character in a given string using a dictionary.\n",
    "\n",
    "Sample data: \"hello\""
   ]
  },
  {
   "cell_type": "code",
   "execution_count": null,
   "metadata": {},
   "outputs": [],
   "source": [
    "# Sample data\n",
    "input_string = \"hello\"\n",
    "\n",
    "# Create an empty dictionary to store character frequencies\n",
    "char_frequency = {}\n",
    "\n",
    "# Iterate through each character in the input string\n",
    "for char in input_string:\n",
    "    # Check if the character is already in the dictionary\n",
    "    if char in char_frequency:\n",
    "        # If it is, increment the count\n",
    "        char_frequency[char] += 1\n",
    "    else:\n",
    "        # If it's not, add it to the dictionary with a count of 1\n",
    "        char_frequency[char] = 1\n",
    "\n",
    "# Display the character frequencies\n",
    "for char, frequency in char_frequency.items():\n",
    "    print(f\"'{char}': {frequency}\")\n"
   ]
  }
 ],
 "metadata": {
  "language_info": {
   "name": "python"
  }
 },
 "nbformat": 4,
 "nbformat_minor": 2
}

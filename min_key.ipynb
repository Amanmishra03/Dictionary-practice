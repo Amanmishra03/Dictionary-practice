{
 "cells": [
  {
   "cell_type": "markdown",
   "metadata": {},
   "source": [
    "Write a program to find the key with the minimum value in a dictionary.\n",
    "\n",
    "Sample data: {\"a\": 10, \"b\": 5, \"c\": 15}\n"
   ]
  },
  {
   "cell_type": "code",
   "execution_count": 1,
   "metadata": {},
   "outputs": [
    {
     "name": "stdout",
     "output_type": "stream",
     "text": [
      "5\n"
     ]
    }
   ],
   "source": [
    "Sample_data = {\"a\": 10, \"b\": 5, \"c\": 15}\n",
    "\n",
    "minimum_val =min(Sample_data.values())\n",
    "print(minimum_val)"
   ]
  },
  {
   "cell_type": "code",
   "execution_count": 2,
   "metadata": {},
   "outputs": [
    {
     "name": "stdout",
     "output_type": "stream",
     "text": [
      "The key with the minimum value is 'b' with a value of 5.\n"
     ]
    }
   ],
   "source": [
    "# Sample data\n",
    "data = {\"a\": 10, \"b\": 5, \"c\": 15}\n",
    "\n",
    "if not data:\n",
    "    print(\"The dictionary is empty.\")\n",
    "else:\n",
    "    min_key = min(data, key=data.get)\n",
    "    min_value = data[min_key]\n",
    "    print(f\"The key with the minimum value is '{min_key}' with a value of {min_value}.\")\n"
   ]
  }
 ],
 "metadata": {
  "kernelspec": {
   "display_name": "base",
   "language": "python",
   "name": "python3"
  },
  "language_info": {
   "codemirror_mode": {
    "name": "ipython",
    "version": 3
   },
   "file_extension": ".py",
   "mimetype": "text/x-python",
   "name": "python",
   "nbconvert_exporter": "python",
   "pygments_lexer": "ipython3",
   "version": "3.11.4"
  }
 },
 "nbformat": 4,
 "nbformat_minor": 2
}

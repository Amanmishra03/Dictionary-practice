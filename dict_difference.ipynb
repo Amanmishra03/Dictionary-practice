{
 "cells": [
  {
   "cell_type": "markdown",
   "metadata": {},
   "source": [
    "Write a program to find the difference between two dictionaries.\n",
    "\n",
    "Sample data:\n",
    "dict1 = {\"a\": 1, \"b\": 2, \"c\": 3}\n",
    "dict2 = {\"b\": 2, \"c\": 3, \"d\": 4}"
   ]
  },
  {
   "cell_type": "code",
   "execution_count": 1,
   "metadata": {},
   "outputs": [
    {
     "name": "stdout",
     "output_type": "stream",
     "text": [
      "Difference between dict1 and dict2:\n",
      "{'a': 1, 'd': 4}\n"
     ]
    }
   ],
   "source": [
    "# Sample data\n",
    "dict1 = {\"a\": 1, \"b\": 2, \"c\": 3}\n",
    "dict2 = {\"b\": 2, \"c\": 3, \"d\": 4}\n",
    "\n",
    "# Find the difference between dict1 and dict2\n",
    "difference = {}\n",
    "\n",
    "# Check keys in dict1 that are not in dict2\n",
    "for key, value in dict1.items():\n",
    "    if key not in dict2 or dict2[key] != value:\n",
    "        difference[key] = value\n",
    "\n",
    "# Check keys in dict2 that are not in dict1\n",
    "for key, value in dict2.items():\n",
    "    if key not in dict1 or dict1[key] != value:\n",
    "        difference[key] = value\n",
    "\n",
    "# Print the difference dictionary\n",
    "print(\"Difference between dict1 and dict2:\")\n",
    "print(difference)\n"
   ]
  }
 ],
 "metadata": {
  "kernelspec": {
   "display_name": "base",
   "language": "python",
   "name": "python3"
  },
  "language_info": {
   "codemirror_mode": {
    "name": "ipython",
    "version": 3
   },
   "file_extension": ".py",
   "mimetype": "text/x-python",
   "name": "python",
   "nbconvert_exporter": "python",
   "pygments_lexer": "ipython3",
   "version": "3.11.4"
  }
 },
 "nbformat": 4,
 "nbformat_minor": 2
}
